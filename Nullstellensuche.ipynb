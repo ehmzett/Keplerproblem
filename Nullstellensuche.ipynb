{
 "cells": [
  {
   "cell_type": "markdown",
   "metadata": {},
   "source": [
    "Im vorliegenden Notebook sollen zwei Verfahren zur Nullstellen-Suche einer Funktion $f(x)$ programmiert und ausgeführt werden - das Bisektionsverfahren und das Sekantenverfahren.\n",
    "\n",
    "Beim **Bisektionsverfahren** wird in einem durch die x-Werte $x_1$ und $x_2$ begrenztem Bereich nach der sich darin befindenden Nullstelle gesucht. Die Existenz der Nullstelle wird im ersten Schritt überprüft, indem geschaut wird, ob das Produkt der Funktionswerte $f(x_1)$ und $f(x_2)$ kleiner Null ist. Ist das der Fall, so wird das x-Intervall halbiert, indem ein neuer x-Wert $c=\\frac{x_1+x_2}{2}$ generiert wird. Durch das Bilden der Produkte $f(x_1)\\cdot f(c)$ und $f(x_2)\\cdot f(c)$ wird dann wie zuvor getestet, in welchem der beiden Intervalle die Nullstelle liegt - welches der Produkte also negativ ist. \\\n",
    "Diese Intervallhalbierung wird so lange durchgeführt, bis der Absolutbetrag des Funktionswert $|f(c)|$ der aktuellen Nullstellen-Näherung kleiner einer gegebenen Toleranz ist.\n",
    "\n",
    "Das **Sekantenverfahren** startet ebenfalls mit zwei x-Werten. Durch die beiden Punkte $P(x_1,f(x_1))$ und $Q(x_2,f(x_2))$ der Funktion $f(x)$ wird eine Sekante gelegt. Der Schnittpunkt dieser Sekante mit der x-Achse\n",
    "\n",
    "$$x_{new} = x_2 - \\frac{x_2-x_1}{f(x_2)-f(x_1)} \\cdot f(x_2)$$\n",
    "\n",
    "wird als neuer x-Wert für die nächste Sekante durch die Punkte $Q(x_2,f(x_2))$ und $S(x_{new},f(x_{new}))$ genutzt. Dies wird solange wiederholt, bis der der Absolutbetrag des Funktionswert $|f(x_{new})|$ des aktuellen x-Achsen-Schnittpunktes kleiner als eine gegebene Toleranz ist.\n",
    "\n",
    "Nach dem Importieren der benötigten Bibliotheken wird zunächst die vorgegebene Funktion \n",
    "\n",
    "$$f(x, n)=(x+0.5)^n-2$$\n",
    "\n",
    "definiert. Darauf folgt die Definition der oben beschriebenen Iterations-Funktionen, welche anschließend durch eine n-Schleife ausgeführt und dargestellt werden. \\\n",
    "Der Plot der Funktionen wurde so herangezoomt, dass die berechneten Nullstellen pi mal Daumen überprüft werden können."
   ]
  },
  {
   "cell_type": "code",
   "execution_count": 1,
   "metadata": {},
   "outputs": [],
   "source": [
    "import numpy as np\n",
    "import matplotlib.pyplot as plt\n",
    "%matplotlib inline"
   ]
  },
  {
   "cell_type": "code",
   "execution_count": 2,
   "metadata": {},
   "outputs": [],
   "source": [
    "def f(x, n):\n",
    "    return (x+0.5)**n-2\n",
    "\n",
    "def func(n):\n",
    "    x = np.linspace(0.5, 1.5, 10000)\n",
    "    y = f(x, n)\n",
    "    return x, y\n",
    "\n",
    "def bisection(a, b, tol): #tol := Toleranz der Nullstellen-Genauigkeit \n",
    "    '''Berechnet die Näherung der Nullstelle für f(x) nach der Bisektionsmethode bis eine Genauigkeit von |f(x_null)|<tol erreicht ist.'''\n",
    "    xl = a\n",
    "    xr = b\n",
    "    c = (xr+xl)/2.0\n",
    "    while (np.abs(f(c, n)) >= tol):\n",
    "        c = (xr+xl)/2.0\n",
    "        prod = f(xl, n)*f(c, n)\n",
    "        if prod > 0:\n",
    "            xl = c\n",
    "        elif prod < 0:\n",
    "            xr = c\n",
    "        elif f(c, n) == 0:\n",
    "            return c\n",
    "    return c\n",
    "\n",
    "def secant(a, tol):\n",
    "    '''Berechnet die Näherung der Nullstelle für f(x) nach der Sekantenmethode bis eine Genauigkeit von |f(x_null)|<tol erreicht ist.\n",
    "    Die Anzahl der durchlaufenen Iterationen wird ausgegeben.'''\n",
    "    x1 = a\n",
    "    x2 = a + 1e-4\n",
    "    xnew = x2 - (x2-x1)/(f(x2, n)-f(x1, n)) * f(x2, n)\n",
    "    iteration = 1\n",
    "    while (np.abs(f(xnew, n)) >= tol):\n",
    "        xnew = x2 - (x2-x1)/(f(x2, n)-f(x1, n)) * f(x2, n)\n",
    "        x1 = x2\n",
    "        x2 = xnew\n",
    "        iteration += 1\n",
    "    return xnew, iteration\n",
    "\n",
    "\n"
   ]
  },
  {
   "cell_type": "code",
   "execution_count": 3,
   "metadata": {},
   "outputs": [
    {
     "name": "stdout",
     "output_type": "stream",
     "text": [
      "Die Nullstelle von f(x, 1) liegt nach der Bisektionsmethode bei x = 1.5000000074505806.\n",
      "Die Nullstelle von f(x, 1) liegt nach der Sekantenmethode bei x = 1.5000000000001652. Dafür wurde(n) 1 Iteration(en) benötigt.\n",
      "Die Nullstelle von f(x, 2) liegt nach der Bisektionsmethode bei x = 0.9142135605216026.\n",
      "Die Nullstelle von f(x, 2) liegt nach der Sekantenmethode bei x = 0.914213562407611. Dafür wurde(n) 8 Iteration(en) benötigt.\n",
      "Die Nullstelle von f(x, 3) liegt nach der Bisektionsmethode bei x = 0.7599210515618324.\n",
      "Die Nullstelle von f(x, 3) liegt nach der Sekantenmethode bei x = 0.7599210499804423. Dafür wurde(n) 11 Iteration(en) benötigt.\n",
      "Die Nullstelle von f(x, 4) liegt nach der Bisektionsmethode bei x = 0.6892071142792702.\n",
      "Die Nullstelle von f(x, 4) liegt nach der Sekantenmethode bei x = 0.6892071150027375. Dafür wurde(n) 20 Iteration(en) benötigt.\n"
     ]
    },
    {
     "data": {
      "image/png": "[encoded data removed]",
      "text/plain": [
       "<Figure size 432x288 with 1 Axes>"
      ]
     },
     "metadata": {
      "needs_background": "light"
     },
     "output_type": "display_data"
    },
    {
     "name": "stdout",
     "output_type": "stream",
     "text": [
      "Als Matrix (n|bisec|secant) sieht das ganze so aus:\n",
      "[[1.         1.50000001 1.5       ]\n",
      " [2.         0.91421356 0.91421356]\n",
      " [3.         0.75992105 0.75992105]\n",
      " [4.         0.68920711 0.68920712]]\n"
     ]
    }
   ],
   "source": [
    "results = np.zeros((4, 3)) #Leer-Matrix zum Befüllen mit den Werten von Bisektions-, Sekanten-Verfahren und zugehöriger Potenz n\n",
    "\n",
    "for n in range(1, 5):\n",
    "    x, y = func(n)\n",
    "    plt.plot(x, y, label = f'n={n}')\n",
    "    answerbi = bisection(-1, 2, 1e-8)\n",
    "    answersec, iteration = secant(0, 1e-8)\n",
    "    results[n-1] = [n, answerbi, answersec] #Befüllen der oben generierten Leer-Matrix\n",
    "    print(f'Die Nullstelle von f(x, {n}) liegt nach der Bisektionsmethode bei x = {answerbi}.')\n",
    "    print(f'Die Nullstelle von f(x, {n}) liegt nach der Sekantenmethode bei x = {answersec}. Dafür wurde(n) {iteration} Iteration(en) benötigt.')\n",
    "plt.legend(loc=\"best\")\n",
    "plt.grid()\n",
    "plt.xlabel('x')\n",
    "plt.ylabel('f(x)')\n",
    "plt.show()\n",
    "print(\"Als Matrix (n|bisec|secant) sieht das ganze so aus:\")\n",
    "print(results)"
   ]
  },
  {
   "cell_type": "markdown",
   "metadata": {},
   "source": [
    "Folgend werden die Anzahl der benötigten Iterationen beim Berechnen der Nullstelle durch das Sekantenverfahren in Abhängigkeit der Startwerte dargestellt. (Welches Problem der Warn-Meldung zugrunde liegt, ist mir nicht so ganz klar...)"
   ]
  },
  {
   "cell_type": "code",
   "execution_count": 4,
   "metadata": {},
   "outputs": [
    {
     "name": "stderr",
     "output_type": "stream",
     "text": [
      "C:\\Users\\mzeja\\Anaconda3\\lib\\site-packages\\ipykernel_launcher.py:33: RuntimeWarning: divide by zero encountered in double_scalars\n",
      "C:\\Users\\mzeja\\Anaconda3\\lib\\site-packages\\ipykernel_launcher.py:33: RuntimeWarning: invalid value encountered in double_scalars\n",
      "C:\\Users\\mzeja\\Anaconda3\\lib\\site-packages\\ipykernel_launcher.py:30: RuntimeWarning: divide by zero encountered in double_scalars\n",
      "C:\\Users\\mzeja\\Anaconda3\\lib\\site-packages\\ipykernel_launcher.py:33: RuntimeWarning: divide by zero encountered in double_scalars\n",
      "C:\\Users\\mzeja\\Anaconda3\\lib\\site-packages\\ipykernel_launcher.py:33: RuntimeWarning: invalid value encountered in double_scalars\n"
     ]
    },
    {
     "data": {
      "image/png": "[encoded data removed]",
      "text/plain": [
       "<Figure size 432x288 with 1 Axes>"
      ]
     },
     "metadata": {
      "needs_background": "light"
     },
     "output_type": "display_data"
    }
   ],
   "source": [
    "for n in np.arange(1, 5):\n",
    "    xs, ys = [], [] #leere Listen zum Befüllen mit den Startwerten a und der zugehörigen Anzahl der Iterationen \n",
    "    for a in np.arange(-2, 2.5, 0.5):\n",
    "        answer_sec, iteration = secant(a, 1e-8)\n",
    "        xs.append(a)\n",
    "        ys.append(iteration)\n",
    "    plt.plot(xs, ys, linestyle='', marker='.', label=f'n={n}')\n",
    "plt.ylim(0, 31)\n",
    "plt.xlabel('Startwert')\n",
    "plt.ylabel('Anzahl Iterationen')\n",
    "plt.legend(loc='best')\n",
    "plt.grid()\n",
    "plt.show()"
   ]
  }
 ],
 "metadata": {
  "kernelspec": {
   "display_name": "Python 3",
   "language": "python",
   "name": "python3"
  },
  "language_info": {
   "codemirror_mode": {
    "name": "ipython",
    "version": 3
   },
   "file_extension": ".py",
   "mimetype": "text/x-python",
   "name": "python",
   "nbconvert_exporter": "python",
   "pygments_lexer": "ipython3",
   "version": "3.7.6"
  }
 },
 "nbformat": 4,
 "nbformat_minor": 4
}
