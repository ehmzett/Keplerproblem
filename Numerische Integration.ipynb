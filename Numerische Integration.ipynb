{
 "cells": [
  {
   "cell_type": "markdown",
   "metadata": {},
   "source": [
    "Im vorliegenden Notebook werden drei verschiedene Newton-Cotes-Formeln zur numerischen Integration einer Funktion $f$ über ein Intervall $N=[a, b]$ programmiert. \\\n",
    "Den Newton-Cotes-Formeln liegt die Idee zugrunde, das Intervall $N$, über welches intergriert werden soll, in $k$ äquidistante Bereiche zu unterteilen und durch die $k+1$ Stützstellen, welche diese Teilbereiche begrenzen, ein Polynom $k$-ten Grades zu legen. Dieses Polynom kann im Gegensatz zur Ausgangsfunktion $f$ exakt (numerisch) integriert werden. Durch die Zerlegung von $N$ in $n$ Teilintervalle, in welchen jeweils $f$ wie zuvor durch ein Polynom $k$-ten Grades aproximiert wird, kann das zu berechnende Integral beliebig genau angenähert werden. \n",
    "\n",
    "Im folgenden sollen die Funktionen \n",
    "\n",
    "$$ f_1 = e^{-2x^2} $$\\\n",
    "$$ f_2 = 0.4\\cdot x^6-2\\cdot x^5+7\\cdot x^4-10\\cdot x^3 $$\\\n",
    "$$ f_3 = \\frac{1}{0.5\\cdot x^2-2\\cdot x+3} $$\n",
    "\n",
    "jeweils durch die Newton-Cotes-Formeln für $k=1$ (Trapez-Regel), $k=2$ (Simpson-Regel) und $k=4$ (Bode-Milner-Regel) numerisch integriert werden. Dabei soll das Integrationsergebnis in Abhängigkeit der Anzahl der Teilintervalle $n$ dargestellt werden und die für die Konvergenz (relative Änderung bei Intervallhalbierung < 0.1%) der Integrationsfunktion benötigte Teilintervallanzahl $n_{min}$ ausgegeben werden. "
   ]
  },
  {
   "cell_type": "code",
   "execution_count": 1,
   "metadata": {},
   "outputs": [],
   "source": [
    "import numpy as np\n",
    "import matplotlib.pyplot as plt"
   ]
  },
  {
   "cell_type": "code",
   "execution_count": 2,
   "metadata": {},
   "outputs": [],
   "source": [
    "def trapez(f, a, b, n):\n",
    "    '''Implementiert Trapez-Regel zur Integration der Funktion f über ein Intervall [a, b] mit n Teilsegmenten und n+1 Stützstellen.'''\n",
    "    x = np.linspace(a,b,n+1) #n+1 Stützstellen bei n Teilsegmenten\n",
    "    y = f(x)\n",
    "    summe = 0\n",
    "    anzahl = 0\n",
    "    for i in range(n):\n",
    "        area = (x[i+1]-x[i])*((y[i+1]-y[i])/2 + y[i]) #Berechnung der (Trapez-) Fläche unter einer Geraden durch die beiden Stützstellen x_i und x_(i+1)\n",
    "        summe += area\n",
    "        anzahl += 1\n",
    "    return summe, anzahl"
   ]
  },
  {
   "cell_type": "code",
   "execution_count": 3,
   "metadata": {},
   "outputs": [],
   "source": [
    "def simpson(f, a, b, n):\n",
    "    '''Implementiert Simpson-Regel zur Integration der Funktion f über ein Intervall [a, b] mit n Teilsegmenten und n+1 Stützstellen.\n",
    "    Für n sollte eine gerade Zahl gewählt werden!'''\n",
    "    x = np.linspace(a,b,n+1) #n+1 Stützstellen bei n Teilsegmenten\n",
    "    y = f(x)\n",
    "    summe = 0\n",
    "    anzahl = 0\n",
    "    for i in range(0,n-1,2): #in 2er-Schritten, da die Parabel durch 3 Stützstellen gelegt wird\n",
    "        area = (x[i+2]-x[i])/6 *(y[i]+ 4*y[i+1] + y[i+2]) #Berechnung der Fläche unter einer Parabel durch die drei Stützstellen x_i, x_(i+1) und x_(i+2)\n",
    "        summe += area\n",
    "        anzahl += 1\n",
    "    return summe, anzahl"
   ]
  },
  {
   "cell_type": "code",
   "execution_count": 4,
   "metadata": {},
   "outputs": [],
   "source": [
    "def bode(f, a, b, n):\n",
    "    '''Implementiert Bode-Milne-Regel zur Integration der Funktion f über ein Intervall [a, b] mit n Teilsegmenten und n+1 Stützstellen.\n",
    "    Für n sollte eine durch 4 teilbare Zahl gewählt werden!'''\n",
    "    x = np.linspace(a,b,n+1) #n+1 Stützstellen bei n Teilsegmenten\n",
    "    y = f(x)\n",
    "    summe = 0\n",
    "    anzahl = 0\n",
    "    for i in range(0,n-3,4): #in 4er-Schritten, da das Polynom 4. Grades durch 5 Stützstellen gelegt wird\n",
    "        area = 2*(x[i+2]-x[i])/90 *(7*y[i] + 32*y[i+1] + 12*y[i+2] + 32*y[i+3] + 7*y[i+4]) #Berechnung der Fläche unter einem Polynom 4. Grades durch die fünf Stützstellen x_i bis x_(i+4)\n",
    "        summe += area\n",
    "        anzahl += 1\n",
    "    return summe, anzahl"
   ]
  },
  {
   "cell_type": "code",
   "execution_count": 5,
   "metadata": {},
   "outputs": [],
   "source": [
    "def f1(x):\n",
    "    y_out = np.exp(-2*x**2)\n",
    "    return y_out"
   ]
  },
  {
   "cell_type": "code",
   "execution_count": 6,
   "metadata": {},
   "outputs": [],
   "source": [
    "def f2(x):\n",
    "    y_out = 0.4*x**6-2*x**5+7*x**4-10*x**3\n",
    "    return y_out"
   ]
  },
  {
   "cell_type": "code",
   "execution_count": 7,
   "metadata": {},
   "outputs": [],
   "source": [
    "def f3(x):\n",
    "    y_out = 1/(0.5*x**2-2*x+3)\n",
    "    return y_out"
   ]
  },
  {
   "cell_type": "code",
   "execution_count": 8,
   "metadata": {},
   "outputs": [
    {
     "name": "stdout",
     "output_type": "stream",
     "text": [
      "Anzahl der Durchläufe (n_min) bis Divergenz erreicht ist: 3\n"
     ]
    },
    {
     "data": {
      "text/plain": [
       "<function matplotlib.pyplot.show(*args, **kw)>"
      ]
     },
     "execution_count": 8,
     "metadata": {},
     "output_type": "execute_result"
    },
    {
     "data": {
      "image/png": "[encoded data removed]",
      "text/plain": [
       "<Figure size 432x288 with 1 Axes>"
      ]
     },
     "metadata": {
      "needs_background": "light"
     },
     "output_type": "display_data"
    }
   ],
   "source": [
    "#Plotten der Integrationsergebnisse für f1 nach Trapez-, Simpson- und Bode-Regel\n",
    "#Ausgabe der benötigten Durchläufe bis zur Erreichung von Divergenz\n",
    "#aus Gott weiß welchem Grund, bekomme ich Fehlermeldungen bei dem Versuch die Axen zu beschriften\n",
    "for i in range(1,5):\n",
    "    trapez_out1, anzahl = trapez(f1,0,1,2**i) #Aufrufen der Trapez-Funktion für f1\n",
    "    trapez_out_halb1, anzahl = trapez(f1,0,1,2*2**i) #Halbierung der Segmentlänge\n",
    "    trapdif1 = np.abs(trapez_out1-trapez_out_halb1) \n",
    "    simpson_out1, anzahl = simpson(f1,0,1,2**i) #Aufrufen der Simpson-Funktion für f1\n",
    "    simpson_out_halb1, anzahl2 = simpson(f1,0,1,2*2**i)\n",
    "    simdif1 = np.abs(simpson_out1-simpson_out_halb1)\n",
    "    bode_out1, anzahl = bode(f1,0,1,2**i) #Aufrufen der Bode-Funktion für f1\n",
    "    bode_out_halb1, anzahl2 = bode(f1,0,1,2*2**i)\n",
    "    bodif1 = np.abs(bode_out1-bode_out_halb1)\n",
    "    t1 = plt.scatter(2**i, trapez_out1, color = 'b', marker = '.')\n",
    "    s1 = plt.scatter(2**i, simpson_out1, color = 'r', marker = '.')\n",
    "    b1 = plt.scatter(2**i, bode_out1, color = 'y', marker = '.')\n",
    "    if (trapdif1 < 0.001*trapez_out1) and (simdif1 < 0.001*simpson_out1) and (bodif1 < 0.001*bode_out1): #Überprüfung, ob Divergenzkriterium erreicht ist\n",
    "        print(f'Anzahl der Durchläufe (n_min) bis Divergenz erreicht ist: {i}')\n",
    "        break\n",
    "plt.legend((t1, s1, b1), ('Trapez', 'Simpson', 'Bode'), loc = 'best')\n",
    "plt.title(\"Funktion f1\")\n",
    "plt.show"
   ]
  },
  {
   "cell_type": "code",
   "execution_count": 9,
   "metadata": {},
   "outputs": [
    {
     "name": "stdout",
     "output_type": "stream",
     "text": [
      "Anzahl der Durchläufe (n_min) bis Divergenz erreicht ist: 6\n"
     ]
    },
    {
     "data": {
      "text/plain": [
       "<function matplotlib.pyplot.show(*args, **kw)>"
      ]
     },
     "execution_count": 9,
     "metadata": {},
     "output_type": "execute_result"
    },
    {
     "data": {
      "image/png": "[encoded data removed]",
      "text/plain": [
       "<Figure size 432x288 with 1 Axes>"
      ]
     },
     "metadata": {
      "needs_background": "light"
     },
     "output_type": "display_data"
    }
   ],
   "source": [
    "for i in range(1,10):\n",
    "    trapez_out2, anzahl = trapez(f2,0,4,2**i)\n",
    "    trapez_out_halb2, anzahl = trapez(f2,0,4,2*2**i)\n",
    "    trapdif2 = np.abs(trapez_out2-trapez_out_halb2)\n",
    "    simpson_out2, anzahl = simpson(f2,0,4,2**i)\n",
    "    simpson_out_halb2, anzahl = simpson(f2,0,4,2*2**i)\n",
    "    simdif2 = np.abs(simpson_out2-simpson_out_halb2)\n",
    "    bode_out2, anzahl = bode(f2,0,4,2**i)\n",
    "    bode_out_halb2, anzahl2 = bode(f2,0,4,2*2**i)\n",
    "    bodif2 = np.abs(bode_out2-bode_out_halb2)\n",
    "    t2 = plt.scatter(2**i, trapez_out2, color = 'b', marker = '.')\n",
    "    s2 = plt.scatter(2**i, simpson_out2, color = 'r', marker = '.')\n",
    "    b2 = plt.scatter(2**i, bode_out2, color = 'y', marker = '.')\n",
    "    if (trapdif2 < 0.001*trapez_out2) and (simdif2 < 0.001*simpson_out2) and (bodif2 < 0.001*bode_out2):\n",
    "        print(f'Anzahl der Durchläufe (n_min) bis Divergenz erreicht ist: {i}')\n",
    "        break\n",
    "plt.legend((t2, s2, b2), ('Trapez', 'Simpson', 'Bode'), loc = 'best')\n",
    "plt.title(\"Funktion f2\")\n",
    "plt.show"
   ]
  },
  {
   "cell_type": "code",
   "execution_count": 10,
   "metadata": {},
   "outputs": [
    {
     "name": "stdout",
     "output_type": "stream",
     "text": [
      "Anzahl der Durchläufe (n_min) bis Divergenz erreicht ist: 5\n"
     ]
    },
    {
     "data": {
      "text/plain": [
       "<function matplotlib.pyplot.show(*args, **kw)>"
      ]
     },
     "execution_count": 10,
     "metadata": {},
     "output_type": "execute_result"
    },
    {
     "data": {
      "image/png": "[encoded data removed]",
      "text/plain": [
       "<Figure size 432x288 with 1 Axes>"
      ]
     },
     "metadata": {
      "needs_background": "light"
     },
     "output_type": "display_data"
    }
   ],
   "source": [
    "for i in range(1,10):\n",
    "    trapez_out3, anzahl = trapez(f3,0,10,2**i)\n",
    "    trapez_out_halb3, anzahl = trapez(f3,0,10,2*2**i)\n",
    "    trapdif3 = np.abs(trapez_out3-trapez_out_halb3)\n",
    "    simpson_out3, anzahl = simpson(f3,0,10,2**i)\n",
    "    simpson_out_halb3, anzahl2 = simpson(f3,0,10,2*2**i)\n",
    "    simdif3 = np.abs(simpson_out3-simpson_out_halb3)\n",
    "    bode_out3, anzahl = bode(f3,0,10,2**i)\n",
    "    bode_out_halb3, anzahl2 = bode(f3,0,10,2*2**i)\n",
    "    bodif3 = np.abs(bode_out3-bode_out_halb3)\n",
    "    t3 = plt.scatter(2**i, trapez_out3, color = 'b', marker = '.')\n",
    "    s3 = plt.scatter(2**i, simpson_out3, color = 'r', marker = '.')\n",
    "    b3 = plt.scatter(2**i, bode_out3, color = 'y', marker = '.')\n",
    "    if (trapdif3 < 0.001*trapez_out3) and (simdif3 < 0.001*simpson_out3) and (bodif3 < 0.001*bode_out3):\n",
    "        print(f'Anzahl der Durchläufe (n_min) bis Divergenz erreicht ist: {i}')\n",
    "        break\n",
    "plt.legend((t3, s3, b3), ('Trapez', 'Simpson', 'Bode'), loc = 'best')\n",
    "plt.title(\"Funktion f3\")\n",
    "plt.show"
   ]
  }
 ],
 "metadata": {
  "kernelspec": {
   "display_name": "Python 3",
   "language": "python",
   "name": "python3"
  },
  "language_info": {
   "codemirror_mode": {
    "name": "ipython",
    "version": 3
   },
   "file_extension": ".py",
   "mimetype": "text/x-python",
   "name": "python",
   "nbconvert_exporter": "python",
   "pygments_lexer": "ipython3",
   "version": "3.7.6"
  }
 },
 "nbformat": 4,
 "nbformat_minor": 4
}
